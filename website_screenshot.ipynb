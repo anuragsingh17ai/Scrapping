{
 "cells": [
  {
   "cell_type": "code",
   "execution_count": 47,
   "metadata": {},
   "outputs": [
    {
     "name": "stdout",
     "output_type": "stream",
     "text": [
      "Collecting Selenium-Screenshot\n",
      "  Downloading Selenium-Screenshot-2.1.0.tar.gz (5.4 kB)\n",
      "  Preparing metadata (setup.py) ... \u001b[?25ldone\n",
      "\u001b[?25hRequirement already satisfied: Pillow in /home/jellyfish/anaconda3/envs/learning1/lib/python3.12/site-packages (from Selenium-Screenshot) (10.2.0)\n",
      "Requirement already satisfied: selenium in /home/jellyfish/anaconda3/envs/learning1/lib/python3.12/site-packages (from Selenium-Screenshot) (4.22.0)\n",
      "Requirement already satisfied: urllib3<3,>=1.26 in /home/jellyfish/anaconda3/envs/learning1/lib/python3.12/site-packages (from urllib3[socks]<3,>=1.26->selenium->Selenium-Screenshot) (2.2.0)\n",
      "Requirement already satisfied: trio~=0.17 in /home/jellyfish/anaconda3/envs/learning1/lib/python3.12/site-packages (from selenium->Selenium-Screenshot) (0.25.1)\n",
      "Requirement already satisfied: trio-websocket~=0.9 in /home/jellyfish/anaconda3/envs/learning1/lib/python3.12/site-packages (from selenium->Selenium-Screenshot) (0.11.1)\n",
      "Requirement already satisfied: certifi>=2021.10.8 in /home/jellyfish/anaconda3/envs/learning1/lib/python3.12/site-packages (from selenium->Selenium-Screenshot) (2024.2.2)\n",
      "Requirement already satisfied: typing_extensions>=4.9.0 in /home/jellyfish/anaconda3/envs/learning1/lib/python3.12/site-packages (from selenium->Selenium-Screenshot) (4.9.0)\n",
      "Requirement already satisfied: websocket-client>=1.8.0 in /home/jellyfish/anaconda3/envs/learning1/lib/python3.12/site-packages (from selenium->Selenium-Screenshot) (1.8.0)\n",
      "Requirement already satisfied: attrs>=23.2.0 in /home/jellyfish/anaconda3/envs/learning1/lib/python3.12/site-packages (from trio~=0.17->selenium->Selenium-Screenshot) (23.2.0)\n",
      "Requirement already satisfied: sortedcontainers in /home/jellyfish/anaconda3/envs/learning1/lib/python3.12/site-packages (from trio~=0.17->selenium->Selenium-Screenshot) (2.4.0)\n",
      "Requirement already satisfied: idna in /home/jellyfish/anaconda3/envs/learning1/lib/python3.12/site-packages (from trio~=0.17->selenium->Selenium-Screenshot) (3.6)\n",
      "Requirement already satisfied: outcome in /home/jellyfish/anaconda3/envs/learning1/lib/python3.12/site-packages (from trio~=0.17->selenium->Selenium-Screenshot) (1.3.0.post0)\n",
      "Requirement already satisfied: sniffio>=1.3.0 in /home/jellyfish/anaconda3/envs/learning1/lib/python3.12/site-packages (from trio~=0.17->selenium->Selenium-Screenshot) (1.3.0)\n",
      "Requirement already satisfied: wsproto>=0.14 in /home/jellyfish/anaconda3/envs/learning1/lib/python3.12/site-packages (from trio-websocket~=0.9->selenium->Selenium-Screenshot) (1.2.0)\n",
      "Requirement already satisfied: pysocks!=1.5.7,<2.0,>=1.5.6 in /home/jellyfish/anaconda3/envs/learning1/lib/python3.12/site-packages (from urllib3[socks]<3,>=1.26->selenium->Selenium-Screenshot) (1.7.1)\n",
      "Requirement already satisfied: h11<1,>=0.9.0 in /home/jellyfish/anaconda3/envs/learning1/lib/python3.12/site-packages (from wsproto>=0.14->trio-websocket~=0.9->selenium->Selenium-Screenshot) (0.14.0)\n",
      "Building wheels for collected packages: Selenium-Screenshot\n",
      "  Building wheel for Selenium-Screenshot (setup.py) ... \u001b[?25ldone\n",
      "\u001b[?25h  Created wheel for Selenium-Screenshot: filename=Selenium_Screenshot-2.1.0-py3-none-any.whl size=6451 sha256=23de86dbbb8f48dfa53f6e2bc356e98c6828598b3a12982db4549668b407974b\n",
      "  Stored in directory: /home/jellyfish/.cache/pip/wheels/03/ea/17/86b7e753784e5874bfb56822de96200b9aafdc287a160f6e3c\n",
      "Successfully built Selenium-Screenshot\n",
      "Installing collected packages: Selenium-Screenshot\n",
      "Successfully installed Selenium-Screenshot-2.1.0\n"
     ]
    }
   ],
   "source": [
    "!pip install Selenium-Screenshot"
   ]
  },
  {
   "cell_type": "code",
   "execution_count": 45,
   "metadata": {},
   "outputs": [],
   "source": [
    "from selenium import webdriver\n",
    "import time"
   ]
  },
  {
   "cell_type": "code",
   "execution_count": 46,
   "metadata": {},
   "outputs": [],
   "source": [
    "chorme_options = webdriver.ChromeOptions()\n",
    "chorme_options.add_argument(\"--headless\")\n",
    "driver = webdriver.Chrome(options=chorme_options)\n"
   ]
  },
  {
   "cell_type": "code",
   "execution_count": 43,
   "metadata": {},
   "outputs": [],
   "source": [
    "driver.get(\"https://www.jellyfishtechnologies.com/\")"
   ]
  },
  {
   "cell_type": "code",
   "execution_count": 44,
   "metadata": {},
   "outputs": [
    {
     "data": {
      "text/plain": [
       "True"
      ]
     },
     "execution_count": 44,
     "metadata": {},
     "output_type": "execute_result"
    }
   ],
   "source": [
    "height = driver.execute_script('return document.documentElement.scrollHeight')\n",
    "width  = driver.execute_script('return document.documentElement.scrollWidth')\n",
    "driver.set_window_size(width, height)  # the trick\n",
    "\n",
    "time.sleep(2)\n",
    "driver.save_screenshot(\"screenshot1.png\")"
   ]
  },
  {
   "cell_type": "code",
   "execution_count": 39,
   "metadata": {},
   "outputs": [
    {
     "data": {
      "text/plain": [
       "True"
      ]
     },
     "execution_count": 39,
     "metadata": {},
     "output_type": "execute_result"
    }
   ],
   "source": [
    "driver.get_screenshot_as_file(\"/home/jellyfish/Large Language Models (LLM)/Scrapper/img.png\")"
   ]
  },
  {
   "cell_type": "code",
   "execution_count": null,
   "metadata": {},
   "outputs": [],
   "source": [
    "driver.get_"
   ]
  }
 ],
 "metadata": {
  "kernelspec": {
   "display_name": "learning1",
   "language": "python",
   "name": "python3"
  },
  "language_info": {
   "codemirror_mode": {
    "name": "ipython",
    "version": 3
   },
   "file_extension": ".py",
   "mimetype": "text/x-python",
   "name": "python",
   "nbconvert_exporter": "python",
   "pygments_lexer": "ipython3",
   "version": "3.12.2"
  }
 },
 "nbformat": 4,
 "nbformat_minor": 2
}
